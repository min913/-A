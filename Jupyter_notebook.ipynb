{
 "cells": [
  {
   "cell_type": "code",
   "execution_count": 7,
   "metadata": {
    "id": "D5cUtBS9eJnH"
   },
   "outputs": [],
   "source": [
    "def sort(tup):\n",
    "    # 이 부분은 지우지 말아주세요\n",
    "    if not isinstance(tup, tuple):\n",
    "        raise TypeError(\"tuple을 넣어주세요\")\n",
    "    \n",
    "    else:\n",
    "        min=[]\n",
    "        big = []\n",
    "\n",
    "        for i in range(1, len(tup)):\n",
    "            if tup[i] < tup[0]:\n",
    "                min.append(tup[i])\n",
    "            else:\n",
    "                big.append(tup[i])\n",
    "    \n",
    "        return min + [tup[0]] + big\n",
    "\n"
   ]
  },
  {
   "cell_type": "code",
   "execution_count": 8,
   "metadata": {
    "id": "ZicbqghHeJnI"
   },
   "outputs": [
    {
     "name": "stdout",
     "output_type": "stream",
     "text": [
      "[1, 3, 8, 9, 11]\n"
     ]
    }
   ],
   "source": [
    "# 결과확인\n",
    "tup = (8, 9, 1, 3, 11)\n",
    "print(sort(tup))"
   ]
  },
  {
   "cell_type": "markdown",
   "metadata": {
    "id": "UvU1Zh9Q0DEd"
   },
   "source": [
    "## 과제 2\n",
    "\n",
    "1. 'Point' 라는 이름의 클래스를 만들어 주세요.\n",
    "\n",
    "2. 'Point' 클래스는 0이 아닌 정수 x와 y를 인스턴스 변수를 생성자에 입력 받습니다.\n",
    "\n",
    "3. 'Point' 클래스는 위치를 set하는 함수 ```set_position(x, y)```이 있습니다.\n",
    "\n",
    "4. 'Point' 클래스는 위치를 get하는 함수 ```get_position()```이 있습니다.\n",
    "\n",
    "5. 'Point' 클래스는 다른 Point instance와의 거리를 계산하는 ```get_dist()``` 함수가 있습니다.\n",
    "\n",
    "6. 'Point' 클래스는 ```print(Point)```를 했을 때 Point(x: x, y: y)를 출력해야합니다."
   ]
  },
  {
   "cell_type": "code",
   "execution_count": 35,
   "metadata": {
    "id": "9DfbZwEV0DEe"
   },
   "outputs": [],
   "source": [
    "from math import sqrt\n",
    "\n",
    "'''\n",
    "class Point:\n",
    "    def __init__(self, x, y):\n",
    "        self.x = x\n",
    "        self.y = y\n",
    "        \n",
    "    def set_point(self, x, y):\n",
    "        self.x = x\n",
    "        self.y = y\n",
    "        \n",
    "    def __str__(self):\n",
    "        return f\"Point(x: {self.x}, y: {self.y})\"\n",
    "    \n",
    "    def get_point(self):\n",
    "        return (self.x, self.y)\n",
    "    \n",
    "    def get_dist(self, other):\n",
    "        return ((self.x - other.x)**2 + (self.y - other.y)**2)**0.5\n",
    "\n",
    "    '''\n",
    "\n",
    "\n",
    "class Point:\n",
    "    def __init__(self, x, y):\n",
    "        if (type(x) !=int) or (type(y) !=int) or (x == 0) or (y == 0):\n",
    "            print(\"x와 y는 0이 아닌 정수여야 합니다.\")\n",
    "        else:\n",
    "            self.x = x\n",
    "            self.y = y\n",
    "        \n",
    "    def set_point(self, x, y):\n",
    "        if (type(x) !=int) or (type(y) !=int) or (x == 0) or (y == 0):\n",
    "            print(\"x와 y는 0이 아닌 정수여야 합니다.\") \n",
    "            return\n",
    "        else:\n",
    "            self.x = x\n",
    "            self.y = y\n",
    "    \n",
    "    def get_point(self):\n",
    "        return (self.x, self.y)\n",
    "    \n",
    "    def get_dist(self, other):\n",
    "        return ((self.x - other.x)**2 + (self.y - other.y)**2)**0.5\n",
    "    \n",
    "    def __str__(self):\n",
    "        return f\"Point(x: {self.x}, y: {self.y})\"\n",
    "\n",
    "\n"
   ]
  },
  {
   "cell_type": "code",
   "execution_count": 36,
   "metadata": {
    "id": "ZPkgLe_30DEe"
   },
   "outputs": [
    {
     "name": "stdout",
     "output_type": "stream",
     "text": [
      "17.46424919657298\n",
      "Point(x: 10, y: 20)\n",
      "Point(x: 3, y: 4)\n"
     ]
    }
   ],
   "source": [
    "# 출력\n",
    "# x: 1, y: 2\n",
    "p1 = Point(1, 2)\n",
    "p1.get_point()\n",
    "\n",
    "# 출력\n",
    "# x: 10, y: 20\n",
    "p1.set_point(10,20)\n",
    "p1.get_point()\n",
    "\n",
    "# (10, 20)과 (3, 4)의 유클리디안 거리를 계산해주세요\n",
    "p2 = Point(3, 4)\n",
    "print(p1.get_dist(p2))\n",
    "\n",
    "print(p1)\n",
    "print(p2)"
   ]
  },
  {
   "cell_type": "code",
   "execution_count": null,
   "metadata": {},
   "outputs": [],
   "source": []
  }
 ],
 "metadata": {
  "colab": {
   "collapsed_sections": [
    "g2tnWS5_0DEU",
    "kDjzjWIG0DEU",
    "bGZ_bb-N0DEU",
    "rGP4LmaK0DEV",
    "-O0tQehP0DEW",
    "8gEBujO00DEW",
    "iVETDJlh0DEX",
    "nZxec4sl0DEY",
    "Pdl0GCkC0DEY",
    "uO1I0FtY0DEZ",
    "brsf6BkUeJnH"
   ],
   "provenance": []
  },
  "kernelspec": {
   "display_name": "“ybenv”",
   "language": "python",
   "name": "ybenv"
  },
  "language_info": {
   "codemirror_mode": {
    "name": "ipython",
    "version": 3
   },
   "file_extension": ".py",
   "mimetype": "text/x-python",
   "name": "python",
   "nbconvert_exporter": "python",
   "pygments_lexer": "ipython3",
   "version": "3.9.17"
  },
  "vscode": {
   "interpreter": {
    "hash": "111b3c0f9f9c8a15f3230a7297187edf788287da88680f2d51f02d9a205d0f47"
   }
  }
 },
 "nbformat": 4,
 "nbformat_minor": 1
}
